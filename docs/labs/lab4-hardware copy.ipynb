{
 "cells": [
  {
   "cell_type": "markdown",
   "metadata": {},
   "source": [
    "<br />\n",
    "<div align=\"center\">\n",
    "  <a href=\"https://deepwok.github.io/\">\n",
    "    <img src=\"../imgs/deepwok.png\" alt=\"Logo\" width=\"160\" height=\"160\">\n",
    "  </a>\n",
    "\n",
    "  <h1 align=\"center\">Lab 4 for Advanced Deep Learning Systems (ADLS) - Hardware Stream</h1>\n",
    "\n",
    "  <p align=\"center\">\n",
    "    ELEC70109/EE9-AML3-10/EE9-AO25\n",
    "    <br />\n",
    "\t\tWritten by\n",
    "    <a href=\"https://aaron-zhao123.github.io/\">Aaron Zhao, Pedro Gimenes </a>\n",
    "  </p>\n",
    "</div>"
   ]
  },
  {
   "cell_type": "markdown",
   "metadata": {},
   "source": [
    "# General introduction\n",
    "\n",
    "In this lab, you will learn how to emit SystemVerilog code for a neural network that's been transformed and optimized by MASE. Then, you'll design some hardware for a new Pytorch layer, and simulate the hardware using your new module."
   ]
  },
  {
   "cell_type": "markdown",
   "metadata": {},
   "source": [
    "# The Hardware Emit pass\n",
    "\n",
    "The `emit_verilog` transform pass generates a top-level RTL file and testbench file according to the `MaseGraph`, which includes a hardware implementation of each layer in the network. This top-level file instantiates modules from the `components` library in MASE and/or modules generated using [HLS](https://en.wikipedia.org/wiki/High-level_synthesis), when internal components are not available. The hardware can then be simulated using [Verilator](https://www.veripool.org/verilator/), or deployed on an FPGA.\n",
    "\n",
    "First, add Machop to your system PATH (if you haven't already done so) and import the required libraries."
   ]
  },
  {
   "cell_type": "code",
   "execution_count": 1,
   "metadata": {},
   "outputs": [
    {
     "name": "stderr",
     "output_type": "stream",
     "text": [
      "/usr/local/lib/python3.11/dist-packages/tqdm/auto.py:21: TqdmWarning: IProgress not found. Please update jupyter and ipywidgets. See https://ipywidgets.readthedocs.io/en/stable/user_install.html\n",
      "  from .autonotebook import tqdm as notebook_tqdm\n",
      "\u001b[32mINFO    \u001b[0m \u001b[34mSet logging level to debug\u001b[0m\n"
     ]
    },
    {
     "name": "stdout",
     "output_type": "stream",
     "text": [
      "Usage:\n",
      "        verilator --help\n",
      "        verilator --version\n",
      "        verilator --binary -j 0 [options] [source_files.v]... [opt_c_files.cpp/c/cc/a/o/so]\n",
      "        verilator --cc [options] [source_files.v]... [opt_c_files.cpp/c/cc/a/o/so]\n",
      "        verilator --sc [options] [source_files.v]... [opt_c_files.cpp/c/cc/a/o/so]\n",
      "        verilator --lint-only -Wall [source_files.v]...\n",
      "\n"
     ]
    }
   ],
   "source": [
    "import os, sys\n",
    "import torch\n",
    "torch.manual_seed(0)\n",
    "\n",
    "from chop.ir.graph.mase_graph import MaseGraph\n",
    "\n",
    "from chop.passes.graph.analysis import (\n",
    "    init_metadata_analysis_pass,\n",
    "    add_common_metadata_analysis_pass,\n",
    "    add_hardware_metadata_analysis_pass,\n",
    "    add_software_metadata_analysis_pass,\n",
    "    report_node_type_analysis_pass,\n",
    ")\n",
    "\n",
    "from chop.passes.graph.transforms import (\n",
    "    emit_verilog_top_transform_pass,\n",
    "    emit_internal_rtl_transform_pass,\n",
    "    emit_bram_transform_pass,\n",
    "    emit_cocotb_transform_pass,\n",
    "    quantize_transform_pass,\n",
    ")\n",
    "\n",
    "from chop.tools.logger import set_logging_verbosity\n",
    "\n",
    "set_logging_verbosity(\"debug\")\n",
    "\n",
    "import toml\n",
    "import torch\n",
    "import torch.nn as nn\n",
    "\n",
    "# TO DO: remove\n",
    "import os\n",
    "os.environ[\"PATH\"] = \"/opt/homebrew/bin:\" + os.environ[\"PATH\"]\n",
    "!verilator"
   ]
  },
  {
   "cell_type": "markdown",
   "metadata": {},
   "source": [
    "Now, define the neural network. We're using a model which can be used to perform digit classification on the MNIST dataset."
   ]
  },
  {
   "cell_type": "code",
   "execution_count": 2,
   "metadata": {},
   "outputs": [],
   "source": [
    "class MLP(torch.nn.Module):\n",
    "    \"\"\"\n",
    "    Toy FC model for digit recognition on MNIST\n",
    "    \"\"\"\n",
    "\n",
    "    def __init__(self) -> None:\n",
    "        super().__init__()\n",
    "\n",
    "        self.fc1 = nn.Linear(4, 8)\n",
    "\n",
    "    def forward(self, x):\n",
    "        x = torch.flatten(x, start_dim=1, end_dim=-1)\n",
    "        # x=self.fc1(x)\n",
    "        # x = torch.nn.functional.relu(self.fc1(x),inplace=False)\n",
    "        x = torch.nn.functional.leaky_relu(self.fc1(x),negative_slope=0.1,inplace=False)\n",
    "        return x"
   ]
  },
  {
   "cell_type": "markdown",
   "metadata": {},
   "source": [
    "Now, we'll generate a MaseGraph and add metadata. "
   ]
  },
  {
   "cell_type": "code",
   "execution_count": 3,
   "metadata": {},
   "outputs": [
    {
     "name": "stderr",
     "output_type": "stream",
     "text": [
      "\u001b[36mDEBUG   \u001b[0m \u001b[34mgraph():\n",
      "    %x : [num_users=1] = placeholder[target=x]\n",
      "    %flatten : [num_users=1] = call_function[target=torch.flatten](args = (%x,), kwargs = {start_dim: 1, end_dim: -1})\n",
      "    %fc1 : [num_users=1] = call_module[target=fc1](args = (%flatten,), kwargs = {})\n",
      "    %leaky_relu : [num_users=1] = call_function[target=torch.nn.functional.leaky_relu](args = (%fc1,), kwargs = {negative_slope: 0.1, inplace: False})\n",
      "    return leaky_relu\u001b[0m\n"
     ]
    },
    {
     "name": "stdout",
     "output_type": "stream",
     "text": [
      "tensor([[[0.3704, 1.4565],\n",
      "         [0.9398, 0.7748]]])\n",
      "Hellos in add_common_metadata\n",
      "sigoyi in add_common_metadata\n",
      "nihhhhhhhhh in graph_iterator_for_mase_ops in add_common_metadata\n",
      "nihhhhhhhhh in graph_iterator_for_mase_ops in add_common_metadata\n",
      "graph_model:  GraphModule(\n",
      "  (fc1): Linear(in_features=4, out_features=8, bias=True)\n",
      ")\n",
      "\n",
      "\n",
      "\n",
      "def forward(self, x):\n",
      "    flatten = torch.flatten(x, start_dim = 1, end_dim = -1);  x = None\n",
      "    fc1 = self.fc1(flatten);  flatten = None\n",
      "    leaky_relu = torch.nn.functional.leaky_relu(fc1, negative_slope = 0.1, inplace = False);  fc1 = None\n",
      "    return leaky_relu\n",
      "    \n",
      "# To see more debug info, please use `graph_module.print_readable()`\n",
      "wocao in add_common_metadata\n",
      "graph_iterator_for_metadata:  GraphModule(\n",
      "  (fc1): Linear(in_features=4, out_features=8, bias=True)\n",
      ")\n",
      "\n",
      "\n",
      "\n",
      "def forward(self, x):\n",
      "    flatten = torch.flatten(x, start_dim = 1, end_dim = -1);  x = None\n",
      "    fc1 = self.fc1(flatten);  flatten = None\n",
      "    leaky_relu = torch.nn.functional.leaky_relu(fc1, negative_slope = 0.1, inplace = False);  fc1 = None\n",
      "    return leaky_relu\n",
      "    \n",
      "# To see more debug info, please use `graph_module.print_readable()`\n",
      "kwargs:  {'start_dim': 1, 'end_dim': -1}\n",
      "args in call_module:  (tensor([[0.3704, 1.4565, 0.9398, 0.7748]]),)\n",
      "kwargs in call_module:  {}\n",
      "HIIII from analyse_common_parameters_module\n",
      "args from analyse_common_parameters_module (tensor([[0.3704, 1.4565, 0.9398, 0.7748]]),)\n",
      "kwargs from analyse_common_parameters_module {}\n",
      "meta before _annotate_arg_metadata: {'mase_type': 'module_related_func', 'mase_op': 'linear'}\n",
      "kwargs:  {}\n",
      "meta after _annotate_arg_metadata: {'mase_type': 'module_related_func', 'mase_op': 'linear', 'args': OrderedDict([('data_in_0', {'shape': [1, 4], 'torch_dtype': torch.float32, 'type': 'float', 'precision': [32]})])}\n",
      "meta after get_type_and_precision: {'mase_type': 'module_related_func', 'mase_op': 'linear', 'args': OrderedDict([('data_in_0', {'shape': [1, 4], 'torch_dtype': torch.float32, 'type': 'float', 'precision': [32]})])}\n",
      "weight\n",
      "bias\n",
      "meta after for: {'mase_type': 'module_related_func', 'mase_op': 'linear', 'args': OrderedDict([('data_in_0', {'shape': [1, 4], 'torch_dtype': torch.float32, 'type': 'float', 'precision': [32]}), ('weight', {'type': 'float', 'precision': [32], 'shape': [8, 4], 'from': None}), ('bias', {'type': 'float', 'precision': [32], 'shape': [1, 8], 'from': None})])}\n",
      "kwargs:  {'negative_slope': 0.1, 'inplace': False}\n",
      "0.1\n",
      "wobucao in add_common_metadata\n",
      "nihappp in add_common_metadata\n",
      "node:  x\n",
      "node_op: placeholder\n",
      "common: {'mase_type': 'placeholder', 'mase_op': 'placeholder', 'args': {}, 'results': OrderedDict([('data_out_0', {'type': 'float', 'precision': [32], 'shape': [1, 2, 2], 'torch_dtype': torch.float32})])}\n",
      "node:  flatten\n",
      "node_op: call_function\n",
      "common: {'mase_type': 'implicit_func', 'mase_op': 'flatten', 'results': OrderedDict([('data_out_0', {'type': 'float', 'precision': [32], 'shape': [1, 4], 'torch_dtype': torch.float32})]), 'args': OrderedDict([('data_in_0', {'shape': [1, 2, 2], 'torch_dtype': torch.float32, 'type': 'float', 'precision': [32]}), ('start_dim', {'type': <class 'int'>, 'precision': [32], 'shape': [1]}), ('end_dim', {'type': <class 'int'>, 'precision': [32], 'shape': [1]})])}\n",
      "node:  fc1\n",
      "node_op: call_module\n",
      "common: {'mase_type': 'module_related_func', 'mase_op': 'linear', 'args': OrderedDict([('data_in_0', {'shape': [1, 4], 'torch_dtype': torch.float32, 'type': 'float', 'precision': [32]}), ('weight', {'type': 'float', 'precision': [32], 'shape': [8, 4], 'from': None}), ('bias', {'type': 'float', 'precision': [32], 'shape': [1, 8], 'from': None})]), 'results': OrderedDict([('data_out_0', {'type': 'float', 'precision': [32], 'shape': [1, 8], 'torch_dtype': torch.float32})])}\n",
      "node:  leaky_relu\n",
      "node_op: call_function\n",
      "common: {'mase_type': 'module_related_func', 'mase_op': 'leaky_relu', 'results': OrderedDict([('data_out_0', {'type': 'float', 'precision': [32], 'shape': [1, 8], 'torch_dtype': torch.float32})]), 'args': OrderedDict([('data_in_0', {'shape': [1, 8], 'torch_dtype': torch.float32, 'type': 'float', 'precision': [32]}), ('negative_slope', 0.1), ('inplace', False)])}\n",
      "node:  output\n",
      "node_op: output\n",
      "common: {'mase_type': 'output', 'mase_op': 'output', 'args': {}, 'results': OrderedDict([('data_out_0', {'type': 'float', 'precision': [32], 'shape': [1, 8], 'torch_dtype': torch.float32})])}\n"
     ]
    }
   ],
   "source": [
    "mlp = MLP()\n",
    "mg = MaseGraph(model=mlp)\n",
    "\n",
    "# Provide a dummy input for the graph so it can use for tracing\n",
    "batch_size = 1\n",
    "x = torch.randn((batch_size, 2, 2))\n",
    "print(x)\n",
    "dummy_in = {\"x\": x}\n",
    "\n",
    "mg, _ = init_metadata_analysis_pass(mg, None)\n",
    "mg, _ = add_common_metadata_analysis_pass(\n",
    "    mg, {\"dummy_in\": dummy_in, \"add_value\": False}\n",
    ")\n",
    "\n",
    "for node in mg.fx_graph.nodes:\n",
    "     print (\"node: \", node)\n",
    "     print (\"node_op:\", node.op)\n",
    "     print (\"common:\",node.meta[\"mase\"][\"common\"])"
   ]
  },
  {
   "cell_type": "markdown",
   "metadata": {},
   "source": [
    "Before running `emit_verilog`, we'll quantize the model to fixed precision. Refer back to [lab 3](https://deepwok.github.io/mase/modules/labs_2023/lab3.html) if you've forgotten how this works. Check that the data type for each node is correct after quantization."
   ]
  },
  {
   "cell_type": "code",
   "execution_count": 12,
   "metadata": {},
   "outputs": [
    {
     "name": "stderr",
     "output_type": "stream",
     "text": [
      "\u001b[32mINFO    \u001b[0m \u001b[34mInspecting graph [add_common_node_type_analysis_pass]\u001b[0m\n",
      "\u001b[32mINFO    \u001b[0m \u001b[34m\n",
      "Node name    Fx Node op     Mase type            Mase op      Value type\n",
      "-----------  -------------  -------------------  -----------  ------------\n",
      "x            placeholder    placeholder          placeholder  NA\n",
      "flatten      call_function  implicit_func        flatten      fixed\n",
      "fc1          call_module    module_related_func  linear       fixed\n",
      "leaky_relu   call_function  module_related_func  leaky_relu   fixed\n",
      "output       output         output               output       NA\u001b[0m\n"
     ]
    },
    {
     "name": "stdout",
     "output_type": "stream",
     "text": [
      "placeholder\n",
      "flatten\n",
      "node_config:  {'name': 'fixed', 'data_in_width': 8, 'data_in_frac_width': 5, 'weight_width': 8, 'weight_frac_width': 5, 'bias_width': 8, 'bias_frac_width': 5, 'data_out_width': 8, 'data_out_frac_width': 5, 'floor': True}\n",
      "node_config:  {'name': 'fixed', 'data_in_width': 8, 'data_in_frac_width': 5, 'weight_width': 8, 'weight_frac_width': 5, 'bias_width': 8, 'bias_frac_width': 5, 'data_out_width': 8, 'data_out_frac_width': 5, 'floor': True}\n",
      "output\n"
     ]
    }
   ],
   "source": [
    "config_file = os.path.join(\n",
    "    os.path.abspath(\"\"),\n",
    "    \"..\",\n",
    "    \"..\",\n",
    "    \"configs\",\n",
    "    \"tests\",\n",
    "    \"quantize\",\n",
    "    \"fixed.toml\",\n",
    ")\n",
    "with open(config_file, \"r\") as f:\n",
    "    quan_args = toml.load(f)[\"passes\"][\"quantize\"]\n",
    "mg, _ = quantize_transform_pass(mg, quan_args)\n",
    "\n",
    "_ = report_node_type_analysis_pass(mg)\n",
    "\n",
    "# Update the metadata\n",
    "for node in mg.fx_graph.nodes:\n",
    "    for arg, arg_info in node.meta[\"mase\"][\"common\"][\"args\"].items():\n",
    "        if isinstance(arg_info, dict):\n",
    "            arg_info[\"type\"] = \"fixed\"\n",
    "            arg_info[\"precision\"] = [8, 5]\n",
    "    for result, result_info in node.meta[\"mase\"][\"common\"][\"results\"].items():\n",
    "        if isinstance(result_info, dict):\n",
    "            result_info[\"type\"] = \"fixed\"\n",
    "            result_info[\"precision\"] = [8, 5]"
   ]
  },
  {
   "cell_type": "markdown",
   "metadata": {},
   "source": [
    "At this point, it's important to run the `add_hardware_metadata` analysis pass. This adds all the required metadata which is later used by the `emit_verilog` pass, including:\n",
    "\n",
    "1. The node's toolchain, which defines whether we use internal Verilog modules from the `components` library or the HLS flow.\n",
    "2. The Verilog parameters associated with each node.\n",
    "\n",
    "> **_TASK:_** Read [this page](https://deepwok.github.io/mase/modules/chop/analysis/add_metadata.html#add-hardware-metadata-analysis-pass) for more information on the hardware metadata pass."
   ]
  },
  {
   "cell_type": "code",
   "execution_count": 5,
   "metadata": {},
   "outputs": [
    {
     "name": "stdout",
     "output_type": "stream",
     "text": [
      "mase_op: linear\n",
      "2222\n",
      "mase_op: leaky_relu\n",
      "2222\n",
      "vp:  {}\n",
      "vp:  {}\n"
     ]
    }
   ],
   "source": [
    "mg, _ = add_hardware_metadata_analysis_pass(mg)\n"
   ]
  },
  {
   "cell_type": "code",
   "execution_count": 6,
   "metadata": {},
   "outputs": [
    {
     "name": "stderr",
     "output_type": "stream",
     "text": [
      "\u001b[33mWARNING \u001b[0m \u001b[34mmase_type `module_related_func`, mase_op `leaky_relu` not found in SOFTWARE_PARAM_ANALYSIS_LAYERS. Using default analysis layer\u001b[0m\n"
     ]
    },
    {
     "name": "stdout",
     "output_type": "stream",
     "text": [
      "<chop.ir.graph.mase_graph.MaseGraph object at 0x7fff70e0af50>\n"
     ]
    }
   ],
   "source": [
    "mg_soft, _ = add_software_metadata_analysis_pass(mg)\n",
    "print (mg_soft)"
   ]
  },
  {
   "cell_type": "markdown",
   "metadata": {},
   "source": [
    "Finally, run the emit verilog pass to generate the SystemVerilog files."
   ]
  },
  {
   "cell_type": "code",
   "execution_count": 7,
   "metadata": {},
   "outputs": [
    {
     "name": "stderr",
     "output_type": "stream",
     "text": [
      "\u001b[32mINFO    \u001b[0m \u001b[34mEmitting Verilog...\u001b[0m\n",
      "\u001b[32mINFO    \u001b[0m \u001b[34mEmitting internal components...\u001b[0m\n"
     ]
    },
    {
     "name": "stdout",
     "output_type": "stream",
     "text": [
      "key in get_verilog_parameter: DATA_IN_0_PRECISION_0\n",
      "key in get_verilog_parameter: DATA_IN_0_PRECISION_1\n",
      "key in get_verilog_parameter: DATA_IN_0_TENSOR_SIZE_DIM_0\n",
      "key in get_verilog_parameter: DATA_IN_0_PARALLELISM_DIM_0\n",
      "key in get_verilog_parameter: DATA_IN_0_TENSOR_SIZE_DIM_1\n",
      "key in get_verilog_parameter: DATA_IN_0_PARALLELISM_DIM_1\n",
      "key in get_verilog_parameter: WEIGHT_PRECISION_0\n",
      "key in get_verilog_parameter: WEIGHT_PRECISION_1\n",
      "key in get_verilog_parameter: WEIGHT_TENSOR_SIZE_DIM_0\n",
      "key in get_verilog_parameter: WEIGHT_PARALLELISM_DIM_0\n",
      "key in get_verilog_parameter: WEIGHT_TENSOR_SIZE_DIM_1\n",
      "key in get_verilog_parameter: WEIGHT_PARALLELISM_DIM_1\n",
      "key in get_verilog_parameter: BIAS_PRECISION_0\n",
      "key in get_verilog_parameter: BIAS_PRECISION_1\n",
      "key in get_verilog_parameter: BIAS_TENSOR_SIZE_DIM_0\n",
      "key in get_verilog_parameter: BIAS_PARALLELISM_DIM_0\n",
      "key in get_verilog_parameter: BIAS_TENSOR_SIZE_DIM_1\n",
      "key in get_verilog_parameter: BIAS_PARALLELISM_DIM_1\n",
      "key in get_verilog_parameter: DATA_OUT_0_PRECISION_0\n",
      "key in get_verilog_parameter: DATA_OUT_0_PRECISION_1\n",
      "key in get_verilog_parameter: DATA_OUT_0_TENSOR_SIZE_DIM_0\n",
      "key in get_verilog_parameter: DATA_OUT_0_PARALLELISM_DIM_0\n",
      "key in get_verilog_parameter: DATA_OUT_0_TENSOR_SIZE_DIM_1\n",
      "key in get_verilog_parameter: DATA_OUT_0_PARALLELISM_DIM_1\n",
      "key in get_verilog_parameter: DATA_IN_0_PRECISION_0\n",
      "key in get_verilog_parameter: DATA_IN_0_PRECISION_1\n",
      "key in get_verilog_parameter: DATA_IN_0_TENSOR_SIZE_DIM_0\n",
      "key in get_verilog_parameter: DATA_IN_0_PARALLELISM_DIM_0\n",
      "key in get_verilog_parameter: DATA_IN_0_TENSOR_SIZE_DIM_1\n",
      "key in get_verilog_parameter: DATA_IN_0_PARALLELISM_DIM_1\n",
      "key in get_verilog_parameter: NEGATIVE_SLOPE\n",
      "key in get_verilog_parameter: INPLACE\n",
      "key in get_verilog_parameter: DATA_OUT_0_PRECISION_0\n",
      "key in get_verilog_parameter: DATA_OUT_0_PRECISION_1\n",
      "key in get_verilog_parameter: DATA_OUT_0_TENSOR_SIZE_DIM_0\n",
      "key in get_verilog_parameter: DATA_OUT_0_PARALLELISM_DIM_0\n",
      "key in get_verilog_parameter: DATA_OUT_0_TENSOR_SIZE_DIM_1\n",
      "key in get_verilog_parameter: DATA_OUT_0_PARALLELISM_DIM_1\n",
      "Parameter_map in VerilogEmitter: {'fc1_DATA_IN_0_PRECISION_0': 8, 'fc1_DATA_IN_0_PRECISION_1': 5, 'fc1_DATA_IN_0_TENSOR_SIZE_DIM_0': 4, 'fc1_DATA_IN_0_PARALLELISM_DIM_0': 4, 'fc1_DATA_IN_0_TENSOR_SIZE_DIM_1': 1, 'fc1_DATA_IN_0_PARALLELISM_DIM_1': 1, 'fc1_WEIGHT_PRECISION_0': 8, 'fc1_WEIGHT_PRECISION_1': 5, 'fc1_WEIGHT_TENSOR_SIZE_DIM_0': 4, 'fc1_WEIGHT_PARALLELISM_DIM_0': 4, 'fc1_WEIGHT_TENSOR_SIZE_DIM_1': 8, 'fc1_WEIGHT_PARALLELISM_DIM_1': 4, 'fc1_BIAS_PRECISION_0': 8, 'fc1_BIAS_PRECISION_1': 5, 'fc1_BIAS_TENSOR_SIZE_DIM_0': 8, 'fc1_BIAS_PARALLELISM_DIM_0': 4, 'fc1_BIAS_TENSOR_SIZE_DIM_1': 1, 'fc1_BIAS_PARALLELISM_DIM_1': 1, 'fc1_DATA_OUT_0_PRECISION_0': 8, 'fc1_DATA_OUT_0_PRECISION_1': 5, 'fc1_DATA_OUT_0_TENSOR_SIZE_DIM_0': 8, 'fc1_DATA_OUT_0_PARALLELISM_DIM_0': 4, 'fc1_DATA_OUT_0_TENSOR_SIZE_DIM_1': 1, 'fc1_DATA_OUT_0_PARALLELISM_DIM_1': 1, 'leaky_relu_DATA_IN_0_PRECISION_0': 8, 'leaky_relu_DATA_IN_0_PRECISION_1': 5, 'leaky_relu_DATA_IN_0_TENSOR_SIZE_DIM_0': 8, 'leaky_relu_DATA_IN_0_PARALLELISM_DIM_0': 4, 'leaky_relu_DATA_IN_0_TENSOR_SIZE_DIM_1': 1, 'leaky_relu_DATA_IN_0_PARALLELISM_DIM_1': 1, 'leaky_relu_NEGATIVE_SLOPE': 0.1, 'leaky_relu_INPLACE': 0, 'leaky_relu_DATA_OUT_0_PRECISION_0': 8, 'leaky_relu_DATA_OUT_0_PRECISION_1': 5, 'leaky_relu_DATA_OUT_0_TENSOR_SIZE_DIM_0': 8, 'leaky_relu_DATA_OUT_0_PARALLELISM_DIM_0': 4, 'leaky_relu_DATA_OUT_0_TENSOR_SIZE_DIM_1': 1, 'leaky_relu_DATA_OUT_0_PARALLELISM_DIM_1': 1, 'DATA_IN_0_PRECISION_0': 8, 'DATA_IN_0_PRECISION_1': 5, 'DATA_IN_0_TENSOR_SIZE_DIM_0': 8, 'DATA_IN_0_PARALLELISM_DIM_0': 4, 'DATA_IN_0_TENSOR_SIZE_DIM_1': 1, 'DATA_IN_0_PARALLELISM_DIM_1': 1, 'DATA_OUT_0_PRECISION_0': 8, 'DATA_OUT_0_PRECISION_1': 5, 'DATA_OUT_0_TENSOR_SIZE_DIM_0': 8, 'DATA_OUT_0_PARALLELISM_DIM_0': 4, 'DATA_OUT_0_TENSOR_SIZE_DIM_1': 1, 'DATA_OUT_0_PARALLELISM_DIM_1': 1}\n",
      "nodes_in: [fc1]\n",
      "nodes_out: [leaky_relu]\n",
      "parameter in VerilogParameterEmitter:     parameter fc1_DATA_IN_0_PRECISION_0 = 8,\n",
      "    parameter fc1_DATA_IN_0_PRECISION_1 = 5,\n",
      "    parameter fc1_DATA_IN_0_TENSOR_SIZE_DIM_0 = 4,\n",
      "    parameter fc1_DATA_IN_0_PARALLELISM_DIM_0 = 4,\n",
      "    parameter fc1_DATA_IN_0_TENSOR_SIZE_DIM_1 = 1,\n",
      "    parameter fc1_DATA_IN_0_PARALLELISM_DIM_1 = 1,\n",
      "    parameter fc1_WEIGHT_PRECISION_0 = 8,\n",
      "    parameter fc1_WEIGHT_PRECISION_1 = 5,\n",
      "    parameter fc1_WEIGHT_TENSOR_SIZE_DIM_0 = 4,\n",
      "    parameter fc1_WEIGHT_PARALLELISM_DIM_0 = 4,\n",
      "    parameter fc1_WEIGHT_TENSOR_SIZE_DIM_1 = 8,\n",
      "    parameter fc1_WEIGHT_PARALLELISM_DIM_1 = 4,\n",
      "    parameter fc1_BIAS_PRECISION_0 = 8,\n",
      "    parameter fc1_BIAS_PRECISION_1 = 5,\n",
      "    parameter fc1_BIAS_TENSOR_SIZE_DIM_0 = 8,\n",
      "    parameter fc1_BIAS_PARALLELISM_DIM_0 = 4,\n",
      "    parameter fc1_BIAS_TENSOR_SIZE_DIM_1 = 1,\n",
      "    parameter fc1_BIAS_PARALLELISM_DIM_1 = 1,\n",
      "    parameter fc1_DATA_OUT_0_PRECISION_0 = 8,\n",
      "    parameter fc1_DATA_OUT_0_PRECISION_1 = 5,\n",
      "    parameter fc1_DATA_OUT_0_TENSOR_SIZE_DIM_0 = 8,\n",
      "    parameter fc1_DATA_OUT_0_PARALLELISM_DIM_0 = 4,\n",
      "    parameter fc1_DATA_OUT_0_TENSOR_SIZE_DIM_1 = 1,\n",
      "    parameter fc1_DATA_OUT_0_PARALLELISM_DIM_1 = 1,\n",
      "    parameter leaky_relu_DATA_IN_0_PRECISION_0 = 8,\n",
      "    parameter leaky_relu_DATA_IN_0_PRECISION_1 = 5,\n",
      "    parameter leaky_relu_DATA_IN_0_TENSOR_SIZE_DIM_0 = 8,\n",
      "    parameter leaky_relu_DATA_IN_0_PARALLELISM_DIM_0 = 4,\n",
      "    parameter leaky_relu_DATA_IN_0_TENSOR_SIZE_DIM_1 = 1,\n",
      "    parameter leaky_relu_DATA_IN_0_PARALLELISM_DIM_1 = 1,\n",
      "    parameter leaky_relu_NEGATIVE_SLOPE = 0.1,\n",
      "    parameter leaky_relu_INPLACE = 0,\n",
      "    parameter leaky_relu_DATA_OUT_0_PRECISION_0 = 8,\n",
      "    parameter leaky_relu_DATA_OUT_0_PRECISION_1 = 5,\n",
      "    parameter leaky_relu_DATA_OUT_0_TENSOR_SIZE_DIM_0 = 8,\n",
      "    parameter leaky_relu_DATA_OUT_0_PARALLELISM_DIM_0 = 4,\n",
      "    parameter leaky_relu_DATA_OUT_0_TENSOR_SIZE_DIM_1 = 1,\n",
      "    parameter leaky_relu_DATA_OUT_0_PARALLELISM_DIM_1 = 1,\n",
      "    parameter DATA_IN_0_PRECISION_0 = 8,\n",
      "    parameter DATA_IN_0_PRECISION_1 = 5,\n",
      "    parameter DATA_IN_0_TENSOR_SIZE_DIM_0 = 8,\n",
      "    parameter DATA_IN_0_PARALLELISM_DIM_0 = 4,\n",
      "    parameter DATA_IN_0_TENSOR_SIZE_DIM_1 = 1,\n",
      "    parameter DATA_IN_0_PARALLELISM_DIM_1 = 1,\n",
      "    parameter DATA_OUT_0_PRECISION_0 = 8,\n",
      "    parameter DATA_OUT_0_PRECISION_1 = 5,\n",
      "    parameter DATA_OUT_0_TENSOR_SIZE_DIM_0 = 8,\n",
      "    parameter DATA_OUT_0_PARALLELISM_DIM_0 = 4,\n",
      "    parameter DATA_OUT_0_TENSOR_SIZE_DIM_1 = 1,\n",
      "    parameter DATA_OUT_0_PARALLELISM_DIM_1 = 1,\n",
      "\n"
     ]
    }
   ],
   "source": [
    "mg, _ = emit_verilog_top_transform_pass(mg)\n",
    "mg, _ = emit_internal_rtl_transform_pass(mg)"
   ]
  },
  {
   "cell_type": "markdown",
   "metadata": {},
   "source": [
    "The generated files should now be found under `top/hardware`. \n",
    "\n",
    "> **_TASK:_** Read through `top/hardware/rtl/top.sv` and make sure you understand how our MLP model maps to this hardware design. \n",
    "\n",
    "You will notice the following instantiated modules:\n",
    "\n",
    "* `fixed_linear`: this is found under `components/linear/fixed_linear.sv` and implements each Linear layer in the model.\n",
    "* `fc<layer number>_weight/bias_source`: these are [BRAM](https://nandland.com/lesson-15-what-is-a-block-ram-bram/) memories which drive the weights and biases into the linear layers for computation.\n",
    "* `fixed_relu`: found under `components/activations/fixed_relu.sv`, implements the ReLU activation.\n",
    "\n",
    "As of now, we can't yet run a simulation on the model, as we haven't yet generated the memory components. To do this, run the `emit_bram` transform pass as follows, which will generate the memory initialization files and SystemVerilog modules to drive weights and biases into the linear layers. Finally, the `emit_verilog_tb` transform pass will generate the testbench files.\n"
   ]
  },
  {
   "cell_type": "code",
   "execution_count": 8,
   "metadata": {},
   "outputs": [
    {
     "name": "stderr",
     "output_type": "stream",
     "text": [
      "\u001b[32mINFO    \u001b[0m \u001b[34mEmitting BRAM...\u001b[0m\n",
      "\u001b[36mDEBUG   \u001b[0m \u001b[34mEmitting DAT file for node: fc1, parameter: weight\u001b[0m\n",
      "\u001b[36mDEBUG   \u001b[0m \u001b[34mROM module weight successfully written into /root/.mase/top/hardware/rtl/fc1_weight_source.sv\u001b[0m\n",
      "\u001b[36mDEBUG   \u001b[0m \u001b[34mInit data weight successfully written into /root/.mase/top/hardware/rtl/fc1_weight_rom.dat\u001b[0m\n",
      "\u001b[36mDEBUG   \u001b[0m \u001b[34mEmitting DAT file for node: fc1, parameter: bias\u001b[0m\n",
      "\u001b[36mDEBUG   \u001b[0m \u001b[34mROM module bias successfully written into /root/.mase/top/hardware/rtl/fc1_bias_source.sv\u001b[0m\n",
      "\u001b[36mDEBUG   \u001b[0m \u001b[34mInit data bias successfully written into /root/.mase/top/hardware/rtl/fc1_bias_rom.dat\u001b[0m\n"
     ]
    },
    {
     "name": "stdout",
     "output_type": "stream",
     "text": [
      "1 in emit_bram_transform_pass\n",
      "/root/.mase/top/hardware/rtl\n",
      "param_name in emit_bram_handshake: weight\n",
      "parameter in emit_bram_handshake: Parameter containing:\n",
      "tensor([[-0.0037,  0.2682, -0.4115, -0.3680],\n",
      "        [-0.1926,  0.1341, -0.0099,  0.3964],\n",
      "        [-0.0444,  0.1323, -0.1511, -0.0983],\n",
      "        [-0.4777, -0.3311, -0.2061,  0.0185],\n",
      "        [ 0.1977,  0.3000, -0.3390, -0.2177],\n",
      "        [ 0.1816,  0.4152, -0.1029,  0.3742],\n",
      "        [-0.0806,  0.0529,  0.4527, -0.4638],\n",
      "        [-0.3148, -0.1266, -0.1949,  0.4320]], requires_grad=True)\n",
      "out_size in emit_parameters_in_mem_internal: 16\n",
      "fc1\n",
      "param_data in emit_parameters_in_dat_internal:  tensor([[-0.0037,  0.2682, -0.4115, -0.3680],\n",
      "        [-0.1926,  0.1341, -0.0099,  0.3964],\n",
      "        [-0.0444,  0.1323, -0.1511, -0.0983],\n",
      "        [-0.4777, -0.3311, -0.2061,  0.0185],\n",
      "        [ 0.1977,  0.3000, -0.3390, -0.2177],\n",
      "        [ 0.1816,  0.4152, -0.1029,  0.3742],\n",
      "        [-0.0806,  0.0529,  0.4527, -0.4638],\n",
      "        [-0.3148, -0.1266, -0.1949,  0.4320]])\n",
      "out_depth:  2\n",
      "data_buff:  0009f3f4fa04000dff04fbfdf1f5f901\n",
      "060af5f9060dfd0cfd020ef1f6fcfa0e\n",
      "\n",
      "param_name in emit_bram_handshake: bias\n",
      "parameter in emit_bram_handshake: Parameter containing:\n",
      "tensor([-0.3241, -0.2302, -0.3493, -0.4683, -0.2919,  0.4298,  0.2231,  0.2423],\n",
      "       requires_grad=True)\n",
      "out_size in emit_parameters_in_mem_internal: 4\n",
      "fc1\n",
      "param_data in emit_parameters_in_dat_internal:  tensor([-0.3241, -0.2302, -0.3493, -0.4683, -0.2919,  0.4298,  0.2231,  0.2423])\n",
      "out_depth:  2\n",
      "data_buff:  f6f9f5f1\n",
      "f70e0708\n",
      "\n"
     ]
    }
   ],
   "source": [
    "mg, _ = emit_bram_transform_pass(mg)"
   ]
  },
  {
   "cell_type": "code",
   "execution_count": 9,
   "metadata": {},
   "outputs": [
    {
     "name": "stderr",
     "output_type": "stream",
     "text": [
      "\u001b[32mINFO    \u001b[0m \u001b[34mEmitting testbench...\u001b[0m\n"
     ]
    }
   ],
   "source": [
    "mg, _ = emit_cocotb_transform_pass(mg)\n"
   ]
  },
  {
   "cell_type": "markdown",
   "metadata": {},
   "source": [
    "> **_TASK:_** Now, you're ready to launch a simulation by calling the simulate action as follows."
   ]
  },
  {
   "cell_type": "code",
   "execution_count": 10,
   "metadata": {},
   "outputs": [
    {
     "name": "stdout",
     "output_type": "stream",
     "text": [
      "INFO: Running command perl /usr/local/bin/verilator -cc --exe -Mdir /workspace/docs/labs/sim_build -DCOCOTB_SIM=1 --top-module top --vpi --public-flat-rw --prefix Vtop -o top -LDFLAGS '-Wl,-rpath,/usr/local/lib/python3.11/dist-packages/cocotb/libs -L/usr/local/lib/python3.11/dist-packages/cocotb/libs -lcocotbvpi_verilator' -Wno-fatal -Wno-lint -Wno-style --trace-fst --trace-structs --trace-depth 3 -I/root/.mase/top/hardware/rtl -I/workspace/src/mase_components/interface/rtl -I/workspace/src/mase_components/language_models/rtl -I/workspace/src/mase_components/memory/rtl -I/workspace/src/mase_components/vivado/rtl -I/workspace/src/mase_components/convolution_layers/rtl -I/workspace/src/mase_components/cast/rtl -I/workspace/src/mase_components/systolic_arrays/rtl -I/workspace/src/mase_components/scalar_operators/rtl -I/workspace/src/mase_components/transformer_layers/rtl -I/workspace/src/mase_components/common/rtl -I/workspace/src/mase_components/hls/rtl -I/workspace/src/mase_components/vision_models/rtl -I/workspace/src/mase_components/linear_layers/rtl -I/workspace/src/mase_components/activation_layers/rtl -I/workspace/src/mase_components/normalization_layers/rtl -I/workspace/src/mase_components/helper/rtl /usr/local/lib/python3.11/dist-packages/cocotb/share/lib/verilator/verilator.cpp /root/.mase/top/hardware/rtl/register_slice.sv /root/.mase/top/hardware/rtl/fixed_adder_tree_layer.sv /root/.mase/top/hardware/rtl/unpacked_repeat_circular_buffer.sv /root/.mase/top/hardware/rtl/matmul.sv /root/.mase/top/hardware/rtl/join2.sv /root/.mase/top/hardware/rtl/sliding_window.sv /root/.mase/top/hardware/rtl/convolution.sv /root/.mase/top/hardware/rtl/matrix_unflatten.sv /root/.mase/top/hardware/rtl/fixed_signed_cast.sv /root/.mase/top/hardware/rtl/blk_mem_gen_0.sv /root/.mase/top/hardware/rtl/fixed_relu.sv /root/.mase/top/hardware/rtl/fixed_adder_tree.sv /root/.mase/top/hardware/rtl/matrix_fifo.sv /root/.mase/top/hardware/rtl/conv1_bias_source.sv /root/.mase/top/hardware/rtl/fc1_bias_source.sv /root/.mase/top/hardware/rtl/fixed_linear.sv /root/.mase/top/hardware/rtl/top.sv /root/.mase/top/hardware/rtl/fc1_weight_source.sv /root/.mase/top/hardware/rtl/fc1_1_bias_source.sv /root/.mase/top/hardware/rtl/conv1_weight_source.sv /root/.mase/top/hardware/rtl/transpose.sv /root/.mase/top/hardware/rtl/fixed_rounding.sv /root/.mase/top/hardware/rtl/input_buffer.sv /root/.mase/top/hardware/rtl/floor_round.sv /root/.mase/top/hardware/rtl/fc1_1_weight_source.sv /root/.mase/top/hardware/rtl/convolution_arith.sv /root/.mase/top/hardware/rtl/matrix_accumulator.sv /root/.mase/top/hardware/rtl/simple_matmul.sv /root/.mase/top/hardware/rtl/skid_buffer.sv /root/.mase/top/hardware/rtl/matrix_stream_transpose.sv /root/.mase/top/hardware/rtl/unpacked_skid_buffer.sv /root/.mase/top/hardware/rtl/fixed_leakyrelu.sv /root/.mase/top/hardware/rtl/fixed_accumulator.sv /root/.mase/top/hardware/rtl/fixed_vector_mult.sv /root/.mase/top/hardware/rtl/matrix_flatten.sv /root/.mase/top/hardware/rtl/fixed_dot_product.sv /root/.mase/top/hardware/rtl/padding.sv /root/.mase/top/hardware/rtl/fixed_cast.sv /root/.mase/top/hardware/rtl/roller.sv /root/.mase/top/hardware/rtl/fixed_mult.sv /root/.mase/top/hardware/rtl/signed_clamp.sv in directory /workspace/docs/labs/sim_build\n",
      "INFO: Running command make -C /workspace/docs/labs/sim_build -f Vtop.mk in directory /workspace/docs/labs/sim_build\n",
      "make: Entering directory '/workspace/docs/labs/sim_build'\n",
      "ccache g++  -I.  -MMD -I/usr/local/share/verilator/include -I/usr/local/share/verilator/include/vltstd -DVM_COVERAGE=0 -DVM_SC=0 -DVM_TRACE=1 -DVM_TRACE_FST=1 -DVM_TRACE_VCD=0 -faligned-new -fcf-protection=none -Wno-bool-operation -Wno-overloaded-virtual -Wno-shadow -Wno-sign-compare -Wno-uninitialized -Wno-unused-but-set-parameter -Wno-unused-but-set-variable -Wno-unused-parameter -Wno-unused-variable       -Os -c -o verilator.o /usr/local/lib/python3.11/dist-packages/cocotb/share/lib/verilator/verilator.cpp\n",
      "ccache g++ -Os  -I.  -MMD -I/usr/local/share/verilator/include -I/usr/local/share/verilator/include/vltstd -DVM_COVERAGE=0 -DVM_SC=0 -DVM_TRACE=1 -DVM_TRACE_FST=1 -DVM_TRACE_VCD=0 -faligned-new -fcf-protection=none -Wno-bool-operation -Wno-overloaded-virtual -Wno-shadow -Wno-sign-compare -Wno-uninitialized -Wno-unused-but-set-parameter -Wno-unused-but-set-variable -Wno-unused-parameter -Wno-unused-variable       -c -o verilated.o /usr/local/share/verilator/include/verilated.cpp\n",
      "ccache g++ -Os  -I.  -MMD -I/usr/local/share/verilator/include -I/usr/local/share/verilator/include/vltstd -DVM_COVERAGE=0 -DVM_SC=0 -DVM_TRACE=1 -DVM_TRACE_FST=1 -DVM_TRACE_VCD=0 -faligned-new -fcf-protection=none -Wno-bool-operation -Wno-overloaded-virtual -Wno-shadow -Wno-sign-compare -Wno-uninitialized -Wno-unused-but-set-parameter -Wno-unused-but-set-variable -Wno-unused-parameter -Wno-unused-variable       -c -o verilated_dpi.o /usr/local/share/verilator/include/verilated_dpi.cpp\n",
      "ccache g++ -Os  -I.  -MMD -I/usr/local/share/verilator/include -I/usr/local/share/verilator/include/vltstd -DVM_COVERAGE=0 -DVM_SC=0 -DVM_TRACE=1 -DVM_TRACE_FST=1 -DVM_TRACE_VCD=0 -faligned-new -fcf-protection=none -Wno-bool-operation -Wno-overloaded-virtual -Wno-shadow -Wno-sign-compare -Wno-uninitialized -Wno-unused-but-set-parameter -Wno-unused-but-set-variable -Wno-unused-parameter -Wno-unused-variable       -c -o verilated_vpi.o /usr/local/share/verilator/include/verilated_vpi.cpp\n",
      "ccache g++ -Os  -I.  -MMD -I/usr/local/share/verilator/include -I/usr/local/share/verilator/include/vltstd -DVM_COVERAGE=0 -DVM_SC=0 -DVM_TRACE=1 -DVM_TRACE_FST=1 -DVM_TRACE_VCD=0 -faligned-new -fcf-protection=none -Wno-bool-operation -Wno-overloaded-virtual -Wno-shadow -Wno-sign-compare -Wno-uninitialized -Wno-unused-but-set-parameter -Wno-unused-but-set-variable -Wno-unused-parameter -Wno-unused-variable       -c -o verilated_fst_c.o /usr/local/share/verilator/include/verilated_fst_c.cpp\n",
      "ccache g++ -Os  -I.  -MMD -I/usr/local/share/verilator/include -I/usr/local/share/verilator/include/vltstd -DVM_COVERAGE=0 -DVM_SC=0 -DVM_TRACE=1 -DVM_TRACE_FST=1 -DVM_TRACE_VCD=0 -faligned-new -fcf-protection=none -Wno-bool-operation -Wno-overloaded-virtual -Wno-shadow -Wno-sign-compare -Wno-uninitialized -Wno-unused-but-set-parameter -Wno-unused-but-set-variable -Wno-unused-parameter -Wno-unused-variable       -c -o verilated_threads.o /usr/local/share/verilator/include/verilated_threads.cpp\n",
      "ccache g++ -Os  -I.  -MMD -I/usr/local/share/verilator/include -I/usr/local/share/verilator/include/vltstd -DVM_COVERAGE=0 -DVM_SC=0 -DVM_TRACE=1 -DVM_TRACE_FST=1 -DVM_TRACE_VCD=0 -faligned-new -fcf-protection=none -Wno-bool-operation -Wno-overloaded-virtual -Wno-shadow -Wno-sign-compare -Wno-uninitialized -Wno-unused-but-set-parameter -Wno-unused-but-set-variable -Wno-unused-parameter -Wno-unused-variable       -x c++-header Vtop__pch.h -o Vtop__pch.h.fast.gch\n",
      "ccache g++ -Os  -I.  -MMD -I/usr/local/share/verilator/include -I/usr/local/share/verilator/include/vltstd -DVM_COVERAGE=0 -DVM_SC=0 -DVM_TRACE=1 -DVM_TRACE_FST=1 -DVM_TRACE_VCD=0 -faligned-new -fcf-protection=none -Wno-bool-operation -Wno-overloaded-virtual -Wno-shadow -Wno-sign-compare -Wno-uninitialized -Wno-unused-but-set-parameter -Wno-unused-but-set-variable -Wno-unused-parameter -Wno-unused-variable       -include Vtop__pch.h.fast -c -o Vtop.o Vtop.cpp\n",
      "ccache g++ -Os  -I.  -MMD -I/usr/local/share/verilator/include -I/usr/local/share/verilator/include/vltstd -DVM_COVERAGE=0 -DVM_SC=0 -DVM_TRACE=1 -DVM_TRACE_FST=1 -DVM_TRACE_VCD=0 -faligned-new -fcf-protection=none -Wno-bool-operation -Wno-overloaded-virtual -Wno-shadow -Wno-sign-compare -Wno-uninitialized -Wno-unused-but-set-parameter -Wno-unused-but-set-variable -Wno-unused-parameter -Wno-unused-variable       -include Vtop__pch.h.fast -c -o Vtop___024root__DepSet_h84412442__0.o Vtop___024root__DepSet_h84412442__0.cpp\n",
      "ccache g++ -Os  -I.  -MMD -I/usr/local/share/verilator/include -I/usr/local/share/verilator/include/vltstd -DVM_COVERAGE=0 -DVM_SC=0 -DVM_TRACE=1 -DVM_TRACE_FST=1 -DVM_TRACE_VCD=0 -faligned-new -fcf-protection=none -Wno-bool-operation -Wno-overloaded-virtual -Wno-shadow -Wno-sign-compare -Wno-uninitialized -Wno-unused-but-set-parameter -Wno-unused-but-set-variable -Wno-unused-parameter -Wno-unused-variable       -include Vtop__pch.h.fast -c -o Vtop___024root__DepSet_h84412442__1.o Vtop___024root__DepSet_h84412442__1.cpp\n",
      "ccache g++ -Os  -I.  -MMD -I/usr/local/share/verilator/include -I/usr/local/share/verilator/include/vltstd -DVM_COVERAGE=0 -DVM_SC=0 -DVM_TRACE=1 -DVM_TRACE_FST=1 -DVM_TRACE_VCD=0 -faligned-new -fcf-protection=none -Wno-bool-operation -Wno-overloaded-virtual -Wno-shadow -Wno-sign-compare -Wno-uninitialized -Wno-unused-but-set-parameter -Wno-unused-but-set-variable -Wno-unused-parameter -Wno-unused-variable       -include Vtop__pch.h.fast -c -o Vtop___024root__DepSet_heccd7ead__0.o Vtop___024root__DepSet_heccd7ead__0.cpp\n",
      "ccache g++ -Os  -I.  -MMD -I/usr/local/share/verilator/include -I/usr/local/share/verilator/include/vltstd -DVM_COVERAGE=0 -DVM_SC=0 -DVM_TRACE=1 -DVM_TRACE_FST=1 -DVM_TRACE_VCD=0 -faligned-new -fcf-protection=none -Wno-bool-operation -Wno-overloaded-virtual -Wno-shadow -Wno-sign-compare -Wno-uninitialized -Wno-unused-but-set-parameter -Wno-unused-but-set-variable -Wno-unused-parameter -Wno-unused-variable       -include Vtop__pch.h.fast -c -o Vtop_fixed_dot_product__I8_W8__DepSet_h6108f7e9__0.o Vtop_fixed_dot_product__I8_W8__DepSet_h6108f7e9__0.cpp\n",
      "ccache g++ -Os  -I.  -MMD -I/usr/local/share/verilator/include -I/usr/local/share/verilator/include/vltstd -DVM_COVERAGE=0 -DVM_SC=0 -DVM_TRACE=1 -DVM_TRACE_FST=1 -DVM_TRACE_VCD=0 -faligned-new -fcf-protection=none -Wno-bool-operation -Wno-overloaded-virtual -Wno-shadow -Wno-sign-compare -Wno-uninitialized -Wno-unused-but-set-parameter -Wno-unused-but-set-variable -Wno-unused-parameter -Wno-unused-variable       -include Vtop__pch.h.fast -c -o Vtop__Dpi.o Vtop__Dpi.cpp\n",
      "ccache g++ -Os  -I.  -MMD -I/usr/local/share/verilator/include -I/usr/local/share/verilator/include/vltstd -DVM_COVERAGE=0 -DVM_SC=0 -DVM_TRACE=1 -DVM_TRACE_FST=1 -DVM_TRACE_VCD=0 -faligned-new -fcf-protection=none -Wno-bool-operation -Wno-overloaded-virtual -Wno-shadow -Wno-sign-compare -Wno-uninitialized -Wno-unused-but-set-parameter -Wno-unused-but-set-variable -Wno-unused-parameter -Wno-unused-variable       -include Vtop__pch.h.fast -c -o Vtop__Trace__0.o Vtop__Trace__0.cpp\n",
      "ccache g++   -I.  -MMD -I/usr/local/share/verilator/include -I/usr/local/share/verilator/include/vltstd -DVM_COVERAGE=0 -DVM_SC=0 -DVM_TRACE=1 -DVM_TRACE_FST=1 -DVM_TRACE_VCD=0 -faligned-new -fcf-protection=none -Wno-bool-operation -Wno-overloaded-virtual -Wno-shadow -Wno-sign-compare -Wno-uninitialized -Wno-unused-but-set-parameter -Wno-unused-but-set-variable -Wno-unused-parameter -Wno-unused-variable       -x c++-header Vtop__pch.h -o Vtop__pch.h.slow.gch\n",
      "ccache g++   -I.  -MMD -I/usr/local/share/verilator/include -I/usr/local/share/verilator/include/vltstd -DVM_COVERAGE=0 -DVM_SC=0 -DVM_TRACE=1 -DVM_TRACE_FST=1 -DVM_TRACE_VCD=0 -faligned-new -fcf-protection=none -Wno-bool-operation -Wno-overloaded-virtual -Wno-shadow -Wno-sign-compare -Wno-uninitialized -Wno-unused-but-set-parameter -Wno-unused-but-set-variable -Wno-unused-parameter -Wno-unused-variable       -include Vtop__pch.h.slow -c -o Vtop__ConstPool_0.o Vtop__ConstPool_0.cpp\n",
      "ccache g++   -I.  -MMD -I/usr/local/share/verilator/include -I/usr/local/share/verilator/include/vltstd -DVM_COVERAGE=0 -DVM_SC=0 -DVM_TRACE=1 -DVM_TRACE_FST=1 -DVM_TRACE_VCD=0 -faligned-new -fcf-protection=none -Wno-bool-operation -Wno-overloaded-virtual -Wno-shadow -Wno-sign-compare -Wno-uninitialized -Wno-unused-but-set-parameter -Wno-unused-but-set-variable -Wno-unused-parameter -Wno-unused-variable       -include Vtop__pch.h.slow -c -o Vtop___024root__Slow.o Vtop___024root__Slow.cpp\n",
      "ccache g++   -I.  -MMD -I/usr/local/share/verilator/include -I/usr/local/share/verilator/include/vltstd -DVM_COVERAGE=0 -DVM_SC=0 -DVM_TRACE=1 -DVM_TRACE_FST=1 -DVM_TRACE_VCD=0 -faligned-new -fcf-protection=none -Wno-bool-operation -Wno-overloaded-virtual -Wno-shadow -Wno-sign-compare -Wno-uninitialized -Wno-unused-but-set-parameter -Wno-unused-but-set-variable -Wno-unused-parameter -Wno-unused-variable       -include Vtop__pch.h.slow -c -o Vtop___024root__DepSet_h84412442__0__Slow.o Vtop___024root__DepSet_h84412442__0__Slow.cpp\n",
      "ccache g++   -I.  -MMD -I/usr/local/share/verilator/include -I/usr/local/share/verilator/include/vltstd -DVM_COVERAGE=0 -DVM_SC=0 -DVM_TRACE=1 -DVM_TRACE_FST=1 -DVM_TRACE_VCD=0 -faligned-new -fcf-protection=none -Wno-bool-operation -Wno-overloaded-virtual -Wno-shadow -Wno-sign-compare -Wno-uninitialized -Wno-unused-but-set-parameter -Wno-unused-but-set-variable -Wno-unused-parameter -Wno-unused-variable       -include Vtop__pch.h.slow -c -o Vtop___024root__DepSet_heccd7ead__0__Slow.o Vtop___024root__DepSet_heccd7ead__0__Slow.cpp\n",
      "ccache g++   -I.  -MMD -I/usr/local/share/verilator/include -I/usr/local/share/verilator/include/vltstd -DVM_COVERAGE=0 -DVM_SC=0 -DVM_TRACE=1 -DVM_TRACE_FST=1 -DVM_TRACE_VCD=0 -faligned-new -fcf-protection=none -Wno-bool-operation -Wno-overloaded-virtual -Wno-shadow -Wno-sign-compare -Wno-uninitialized -Wno-unused-but-set-parameter -Wno-unused-but-set-variable -Wno-unused-parameter -Wno-unused-variable       -include Vtop__pch.h.slow -c -o Vtop_fixed_dot_product__I8_W8__Slow.o Vtop_fixed_dot_product__I8_W8__Slow.cpp\n",
      "ccache g++   -I.  -MMD -I/usr/local/share/verilator/include -I/usr/local/share/verilator/include/vltstd -DVM_COVERAGE=0 -DVM_SC=0 -DVM_TRACE=1 -DVM_TRACE_FST=1 -DVM_TRACE_VCD=0 -faligned-new -fcf-protection=none -Wno-bool-operation -Wno-overloaded-virtual -Wno-shadow -Wno-sign-compare -Wno-uninitialized -Wno-unused-but-set-parameter -Wno-unused-but-set-variable -Wno-unused-parameter -Wno-unused-variable       -include Vtop__pch.h.slow -c -o Vtop_fixed_dot_product__I8_W8__DepSet_h6108f7e9__0__Slow.o Vtop_fixed_dot_product__I8_W8__DepSet_h6108f7e9__0__Slow.cpp\n",
      "ccache g++   -I.  -MMD -I/usr/local/share/verilator/include -I/usr/local/share/verilator/include/vltstd -DVM_COVERAGE=0 -DVM_SC=0 -DVM_TRACE=1 -DVM_TRACE_FST=1 -DVM_TRACE_VCD=0 -faligned-new -fcf-protection=none -Wno-bool-operation -Wno-overloaded-virtual -Wno-shadow -Wno-sign-compare -Wno-uninitialized -Wno-unused-but-set-parameter -Wno-unused-but-set-variable -Wno-unused-parameter -Wno-unused-variable       -include Vtop__pch.h.slow -c -o Vtop__Syms.o Vtop__Syms.cpp\n",
      "ccache g++   -I.  -MMD -I/usr/local/share/verilator/include -I/usr/local/share/verilator/include/vltstd -DVM_COVERAGE=0 -DVM_SC=0 -DVM_TRACE=1 -DVM_TRACE_FST=1 -DVM_TRACE_VCD=0 -faligned-new -fcf-protection=none -Wno-bool-operation -Wno-overloaded-virtual -Wno-shadow -Wno-sign-compare -Wno-uninitialized -Wno-unused-but-set-parameter -Wno-unused-but-set-variable -Wno-unused-parameter -Wno-unused-variable       -include Vtop__pch.h.slow -c -o Vtop__Trace__0__Slow.o Vtop__Trace__0__Slow.cpp\n",
      "ccache g++   -I.  -MMD -I/usr/local/share/verilator/include -I/usr/local/share/verilator/include/vltstd -DVM_COVERAGE=0 -DVM_SC=0 -DVM_TRACE=1 -DVM_TRACE_FST=1 -DVM_TRACE_VCD=0 -faligned-new -fcf-protection=none -Wno-bool-operation -Wno-overloaded-virtual -Wno-shadow -Wno-sign-compare -Wno-uninitialized -Wno-unused-but-set-parameter -Wno-unused-but-set-variable -Wno-unused-parameter -Wno-unused-variable       -include Vtop__pch.h.slow -c -o Vtop__TraceDecls__0__Slow.o Vtop__TraceDecls__0__Slow.cpp\n",
      "Archive ar -rcs Vtop__ALL.a Vtop.o Vtop___024root__DepSet_h84412442__0.o Vtop___024root__DepSet_h84412442__1.o Vtop___024root__DepSet_heccd7ead__0.o Vtop_fixed_dot_product__I8_W8__DepSet_h6108f7e9__0.o Vtop__Dpi.o Vtop__Trace__0.o Vtop__ConstPool_0.o Vtop___024root__Slow.o Vtop___024root__DepSet_h84412442__0__Slow.o Vtop___024root__DepSet_heccd7ead__0__Slow.o Vtop_fixed_dot_product__I8_W8__Slow.o Vtop_fixed_dot_product__I8_W8__DepSet_h6108f7e9__0__Slow.o Vtop__Syms.o Vtop__Trace__0__Slow.o Vtop__TraceDecls__0__Slow.o\n",
      "g++     verilator.o verilated.o verilated_dpi.o verilated_vpi.o verilated_fst_c.o verilated_threads.o Vtop__ALL.a   -Wl,-rpath,/usr/local/lib/python3.11/dist-packages/cocotb/libs -L/usr/local/lib/python3.11/dist-packages/cocotb/libs -lcocotbvpi_verilator -lz  -pthread -lpthread -latomic   -o top\n"
     ]
    },
    {
     "name": "stderr",
     "output_type": "stream",
     "text": [
      "\u001b[32mINFO    \u001b[0m \u001b[34mBuild finished. Time taken: 8.93s\u001b[0m\n"
     ]
    },
    {
     "name": "stdout",
     "output_type": "stream",
     "text": [
      "make: Leaving directory '/workspace/docs/labs/sim_build'\n",
      "cmd: [['/workspace/docs/labs/sim_build/top']]\n",
      "INFO: Running command /workspace/docs/labs/sim_build/top in directory /workspace/docs/labs/sim_build\n",
      "     -.--ns INFO     gpi                                ..mbed/gpi_embed.cpp:76   in set_program_name_in_venv        Did not detect Python virtual environment. Using system-wide Python interpreter\n",
      "     -.--ns INFO     gpi                                ../gpi/GpiCommon.cpp:101  in gpi_print_registered_impl       VPI registered\n",
      "     0.00ns INFO     cocotb                             Running on Verilator version 5.020 2024-01-01\n",
      "     0.00ns INFO     cocotb                             Running tests with cocotb v1.8.0 from /usr/local/lib/python3.11/dist-packages/cocotb\n",
      "     0.00ns INFO     cocotb                             Seeding Python random module with 1740920661\n",
      "     0.00ns INFO     cocotb.regression                  Found test mase_top_tb.test.test\n",
      "     0.00ns INFO     cocotb.regression                  running test (1/1)\n"
     ]
    },
    {
     "name": "stderr",
     "output_type": "stream",
     "text": [
      "/workspace/src/mase_cocotb/driver.py:25: DeprecationWarning: This method is now private.\n",
      "  self._thread = cocotb.scheduler.add(self._send_thread())\n",
      "/workspace/src/mase_cocotb/monitor.py:27: DeprecationWarning: This method is now private.\n",
      "  self._thread = cocotb.scheduler.add(self._recv_thread())\n",
      "[W302 13:04:31.066309466 NNPACK.cpp:62] Could not initialize NNPACK! Reason: Unsupported hardware.\n",
      "/usr/lib/python3.11/tempfile.py:1073: ResourceWarning: Implicitly cleaning up <TemporaryDirectory '/tmp/tmpuagztp4y'>\n",
      "  _warnings.warn(warn_message, ResourceWarning)\n"
     ]
    },
    {
     "name": "stdout",
     "output_type": "stream",
     "text": [
      "nihap in generate_inputs\n",
      "in_tensors:  {'data_in_0': tensor([[[[0.4963, 0.7682, 0.0885],\n",
      "          [0.1320, 0.3074, 0.6341],\n",
      "          [0.4901, 0.8964, 0.4556]]]])}\n",
      "GraphModule(\n",
      "  (conv1): Conv2dInteger(1, 2, kernel_size=(3, 3), stride=(1, 1), padding=(1, 1))\n",
      ")\n",
      "\n",
      "\n",
      "\n",
      "def forward(self, x):\n",
      "    conv1 = self.conv1(x);  x = None\n",
      "    return conv1\n",
      "    \n",
      "# To see more debug info, please use `graph_module.print_readable()`\n",
      "    40.00ns INFO     cocotb.regression                  test failed\n",
      "                                                        Traceback (most recent call last):\n",
      "                                                          File \"/root/.mase/top/hardware/test/mase_top_tb/test.py\", line 21, in test\n",
      "                                                            print (\"weight: \", tb.model.fc1.weight)\n",
      "                                                                               ^^^^^^^^^^^^\n",
      "                                                          File \"/usr/local/lib/python3.11/dist-packages/torch/nn/modules/module.py\", line 1938, in __getattr__\n",
      "                                                            raise AttributeError(\n",
      "                                                        AttributeError: 'GraphModule' object has no attribute 'fc1'\n",
      "    40.00ns INFO     cocotb.regression                  **************************************************************************************\n",
      "                                                        ** TEST                          STATUS  SIM TIME (ns)  REAL TIME (s)  RATIO (ns/s) **\n",
      "                                                        **************************************************************************************\n",
      "                                                        ** mase_top_tb.test.test          FAIL          40.00          10.08          3.97  **\n",
      "                                                        **************************************************************************************\n",
      "                                                        ** TESTS=1 PASS=0 FAIL=1 SKIP=0                 40.00          10.33          3.87  **\n",
      "                                                        **************************************************************************************\n",
      "                                                        \n"
     ]
    },
    {
     "name": "stderr",
     "output_type": "stream",
     "text": [
      "\u001b[32mINFO    \u001b[0m \u001b[34mTest finished. Time taken: 11.82s\u001b[0m\n"
     ]
    },
    {
     "name": "stdout",
     "output_type": "stream",
     "text": [
      "- :0: Verilog $finish\n",
      "INFO: Results file: /workspace/docs/labs/sim_build/results.xml\n"
     ]
    }
   ],
   "source": [
    "from chop.actions import simulate\n",
    "\n",
    "simulate(skip_build=False, skip_test=False)"
   ]
  },
  {
   "cell_type": "markdown",
   "metadata": {},
   "source": [
    "The `simulate` action creates a `dump.vcd` file within the `sim_build` directory, which contains the waveform trace of the simulation. The waveforms can be opened with a viewer like GTKWave.\n",
    "\n",
    "> **TASK**: Follow the instructions [here](https://gtkwave.sourceforge.net/) to install GTKWave on your platform, then open the generated trace file to inspect the signals in the simulation."
   ]
  },
  {
   "cell_type": "code",
   "execution_count": 11,
   "metadata": {},
   "outputs": [],
   "source": [
    "\n",
    "import cocotb\n",
    "\n",
    "@cocotb.test()\n",
    "async def test(dut):\n",
    "    from pathlib import Path\n",
    "    import dill\n",
    "    from cocotb.triggers import Timer\n",
    "\n",
    "    tb_path = Path.home() / \".mase\" / \"top\" / \"hardware\" / \"test\" / \"mase_top_tb\"\n",
    "    with open(tb_path / \"tb_obj.dill\", \"rb\") as f:\n",
    "        tb = dill.load(f)(dut, fail_on_checks=True)\n",
    "\n",
    "    await tb.initialize()\n",
    "\n",
    "    in_tensors = tb.generate_inputs(batches=1)\n",
    "    exp_out = tb.model(*list(in_tensors.values()))\n",
    "\n",
    "    import debugpy\n",
    "    listen_host, listen_port = debugpy.listen((\"localhost\", 5679))\n",
    "    # Suspend execution until debugger attaches\n",
    "    debugpy.wait_for_client()\n",
    "    # Break into debugger for user control\n",
    "    breakpoint()  # or debugpy.breakpoint() on 3.6 and below\n",
    "\n",
    "    print (\"in_tensors: \", in_tensors)\n",
    "    print (tb.model)\n",
    "    print (\"weight: \", tb.model.fc1.weight)\n",
    "    print (\"Bias: \", tb.model.fc1.bias)\n",
    "    print (\"exp_out: \", exp_out)\n",
    "\n",
    "    tb.load_drivers(in_tensors)\n",
    "    tb.load_monitors(exp_out)\n",
    "\n",
    "    await tb.wait_end(timeout=2, timeout_unit=\"ms\")\n"
   ]
  },
  {
   "cell_type": "markdown",
   "metadata": {},
   "source": [
    "# Main Task\n",
    "\n",
    "Pytorch has a number of layers which are available to users to define neural network models. At the moment, `emit_verilog` supports generating Verilog for models including Linear layers and the ReLU activation.\n",
    "\n",
    "> **_MAIN TASK:_** choose another layer type from the [Pytorch list](https://pytorch.org/docs/stable/nn.html#non-linear-activations-weighted-sum-nonlinearity) and write a SystemVerilog file to implement that layer in hardware. Then, change the generated `top.sv` file to inject that layer within the design. For example, you may replace the ReLU activations with [Leaky ReLU](https://pytorch.org/docs/stable/generated/torch.nn.RReLU.html#torch.nn.RReLU). Re-run the simulation and observe the effect on latency and accuracy."
   ]
  }
 ],
 "metadata": {
  "kernelspec": {
   "display_name": "Python 3",
   "language": "python",
   "name": "python3"
  },
  "language_info": {
   "codemirror_mode": {
    "name": "ipython",
    "version": 3
   },
   "file_extension": ".py",
   "mimetype": "text/x-python",
   "name": "python",
   "nbconvert_exporter": "python",
   "pygments_lexer": "ipython3",
   "version": "3.11.11"
  }
 },
 "nbformat": 4,
 "nbformat_minor": 2
}
